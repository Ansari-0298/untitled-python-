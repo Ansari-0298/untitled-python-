{
 "cells": [
  {
   "cell_type": "code",
   "execution_count": null,
   "id": "0b8e40dd",
   "metadata": {},
   "outputs": [],
   "source": [
    "class vehicle():\n",
    "    def __init__ (self,mileage,cost):\n",
    "        self.mileage=mileage\n",
    "        self.cost=cost\n",
    "    def show_vehicle_details(self):\n",
    "        print(\"mileage of the vehicle\",self.mileage)\n",
    "        print(\"cost of the vehicle\",self.cost)"
   ]
  },
  {
   "cell_type": "code",
   "execution_count": 1,
   "id": "67a4c837",
   "metadata": {},
   "outputs": [
    {
     "ename": "NameError",
     "evalue": "name 'vehicle' is not defined",
     "output_type": "error",
     "traceback": [
      "\u001b[1;31m---------------------------------------------------------------------------\u001b[0m",
      "\u001b[1;31mNameError\u001b[0m                                 Traceback (most recent call last)",
      "\u001b[1;32m<ipython-input-1-3899df6a9e55>\u001b[0m in \u001b[0;36m<module>\u001b[1;34m\u001b[0m\n\u001b[1;32m----> 1\u001b[1;33m \u001b[0mv1\u001b[0m \u001b[1;33m=\u001b[0m \u001b[0mvehicle\u001b[0m\u001b[1;33m(\u001b[0m\u001b[1;36m200\u001b[0m\u001b[1;33m,\u001b[0m\u001b[1;36m250000\u001b[0m\u001b[1;33m)\u001b[0m\u001b[1;33m\u001b[0m\u001b[1;33m\u001b[0m\u001b[0m\n\u001b[0m",
      "\u001b[1;31mNameError\u001b[0m: name 'vehicle' is not defined"
     ]
    }
   ],
   "source": [
    "v1 = vehicle(200,250000)"
   ]
  },
  {
   "cell_type": "code",
   "execution_count": 5,
   "id": "da6513b4",
   "metadata": {},
   "outputs": [
    {
     "name": "stdout",
     "output_type": "stream",
     "text": [
      "125\n"
     ]
    }
   ],
   "source": [
    "g=lambda x: x*x*x*x*x*x\n",
    "print(125)"
   ]
  },
  {
   "cell_type": "code",
   "execution_count": 20,
   "id": "856bfe35",
   "metadata": {},
   "outputs": [],
   "source": [
    "l1=(132,23,425,5,42,7855,52,57,6763,643)\n",
    "new_list=list(filter(lambda x: (x%2==0),l1))"
   ]
  },
  {
   "cell_type": "code",
   "execution_count": 21,
   "id": "5bfa5f75",
   "metadata": {},
   "outputs": [
    {
     "data": {
      "text/plain": [
       "[132, 42, 52]"
      ]
     },
     "execution_count": 21,
     "metadata": {},
     "output_type": "execute_result"
    }
   ],
   "source": [
    "new_list"
   ]
  },
  {
   "cell_type": "code",
   "execution_count": 22,
   "id": "70a90790",
   "metadata": {},
   "outputs": [],
   "source": [
    "l1=(132,23,425,5,42,7855,52,57,6763,643)\n",
    "middle_list=list(map(lambda x: x*134,l1))"
   ]
  },
  {
   "cell_type": "code",
   "execution_count": 23,
   "id": "adabe70c",
   "metadata": {},
   "outputs": [
    {
     "data": {
      "text/plain": [
       "[17688, 3082, 56950, 670, 5628, 1052570, 6968, 7638, 906242, 86162]"
      ]
     },
     "execution_count": 23,
     "metadata": {},
     "output_type": "execute_result"
    }
   ],
   "source": [
    "middle_list"
   ]
  },
  {
   "cell_type": "code",
   "execution_count": 28,
   "id": "5f2f097c",
   "metadata": {},
   "outputs": [],
   "source": [
    "from functools import reduce\n",
    "l1=(132,23,425,5,42,7855,52,57,6763,643)\n",
    "final_list=reduce(lambda x,y:x*y,l1)"
   ]
  },
  {
   "cell_type": "code",
   "execution_count": 29,
   "id": "12b2345d",
   "metadata": {},
   "outputs": [
    {
     "data": {
      "text/plain": [
       "27433722483023596740000"
      ]
     },
     "execution_count": 29,
     "metadata": {},
     "output_type": "execute_result"
    }
   ],
   "source": [
    "final_list"
   ]
  },
  {
   "cell_type": "code",
   "execution_count": 1,
   "id": "df412b32",
   "metadata": {},
   "outputs": [
    {
     "name": "stdout",
     "output_type": "stream",
     "text": [
      "0b1010\n",
      "0b1111\n"
     ]
    }
   ],
   "source": [
    "x=10\n",
    "y=15\n",
    "print(bin(x))\n",
    "print(bin(y))"
   ]
  },
  {
   "cell_type": "code",
   "execution_count": 2,
   "id": "199a2f95",
   "metadata": {},
   "outputs": [
    {
     "name": "stdout",
     "output_type": "stream",
     "text": [
      "0b1010\n"
     ]
    }
   ],
   "source": [
    "print(bin(x&y))"
   ]
  },
  {
   "cell_type": "code",
   "execution_count": 3,
   "id": "53191f92",
   "metadata": {},
   "outputs": [
    {
     "name": "stdout",
     "output_type": "stream",
     "text": [
      "0b1111\n"
     ]
    }
   ],
   "source": [
    "print(bin(x|y))"
   ]
  },
  {
   "cell_type": "code",
   "execution_count": 4,
   "id": "eceaeb18",
   "metadata": {},
   "outputs": [
    {
     "name": "stdout",
     "output_type": "stream",
     "text": [
      "0b101\n"
     ]
    }
   ],
   "source": [
    "print(bin(x^y))"
   ]
  },
  {
   "cell_type": "code",
   "execution_count": 1,
   "id": "4dc714cd",
   "metadata": {},
   "outputs": [
    {
     "name": "stdout",
     "output_type": "stream",
     "text": [
      "even\n"
     ]
    }
   ],
   "source": [
    "a=10\n",
    "if a%2==0:\n",
    "    print(\"even\")"
   ]
  },
  {
   "cell_type": "code",
   "execution_count": 2,
   "id": "c8941b2b",
   "metadata": {},
   "outputs": [
    {
     "ename": "SyntaxError",
     "evalue": "invalid syntax (<ipython-input-2-e3ef987fbb16>, line 2)",
     "output_type": "error",
     "traceback": [
      "\u001b[1;36m  File \u001b[1;32m\"<ipython-input-2-e3ef987fbb16>\"\u001b[1;36m, line \u001b[1;32m2\u001b[0m\n\u001b[1;33m    int x=0;\u001b[0m\n\u001b[1;37m        ^\u001b[0m\n\u001b[1;31mSyntaxError\u001b[0m\u001b[1;31m:\u001b[0m invalid syntax\n"
     ]
    }
   ],
   "source": [
    "#include<stdio.h>\n",
    "int x=0;\n",
    "int main(){\n",
    "    if(x==x)\n",
    "        print(\"this is f\");\n",
    "    else\n",
    "         print(\"this is else\");\n",
    "    return 0;\n",
    "}"
   ]
  },
  {
   "cell_type": "code",
   "execution_count": null,
   "id": "8e77d584",
   "metadata": {},
   "outputs": [],
   "source": []
  }
 ],
 "metadata": {
  "kernelspec": {
   "display_name": "Python 3",
   "language": "python",
   "name": "python3"
  },
  "language_info": {
   "codemirror_mode": {
    "name": "ipython",
    "version": 3
   },
   "file_extension": ".py",
   "mimetype": "text/x-python",
   "name": "python",
   "nbconvert_exporter": "python",
   "pygments_lexer": "ipython3",
   "version": "3.8.8"
  }
 },
 "nbformat": 4,
 "nbformat_minor": 5
}
